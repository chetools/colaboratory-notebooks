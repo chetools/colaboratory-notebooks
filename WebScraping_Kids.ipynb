{
  "nbformat": 4,
  "nbformat_minor": 0,
  "metadata": {
    "colab": {
      "name": "WebScraping_Kids.ipynb",
      "provenance": [],
      "authorship_tag": "ABX9TyPDTo9Bs4p4JiAjpwxW6XQi",
      "include_colab_link": true
    },
    "kernelspec": {
      "name": "python3",
      "display_name": "Python 3"
    }
  },
  "cells": [
    {
      "cell_type": "markdown",
      "metadata": {
        "id": "view-in-github",
        "colab_type": "text"
      },
      "source": [
        "<a href=\"https://colab.research.google.com/github/profteachkids/colaboratory-notebooks/blob/master/WebScraping_Kids.ipynb\" target=\"_parent\"><img src=\"https://colab.research.google.com/assets/colab-badge.svg\" alt=\"Open In Colab\"/></a>"
      ]
    },
    {
      "cell_type": "code",
      "metadata": {
        "id": "VTUStqy5Mhkp",
        "colab_type": "code",
        "colab": {}
      },
      "source": [
        "from lxml import html\n",
        "import requests"
      ],
      "execution_count": null,
      "outputs": []
    },
    {
      "cell_type": "code",
      "metadata": {
        "id": "M9koROWmMbCT",
        "colab_type": "code",
        "colab": {}
      },
      "source": [
        "content = \"\"\"<div class='team-stats'>\n",
        "  <div class='points-per-game'>\n",
        "    <table class='category-table'> \n",
        "      <tr>\n",
        "        <a class='team-name'>Golden State Warriors</a>\n",
        "        <a class='team-value'>116.3</a>\n",
        "      </tr> \n",
        "      <tr>\n",
        "        <a class='team-name'>LA Clippers</a>\n",
        "        <a class='team-value'>114.7</a>\n",
        "      </tr> \n",
        "      <tr>\n",
        "        <a class='team-name'>Milwaukee Bucks</a>\n",
        "        <a class='team-value'>112.8</a>\n",
        "      </tr> \n",
        "    </table>\n",
        "  </div>\n",
        "  \n",
        "  <div class='rebounds-per-game'> \n",
        "    <table class='category-table'> \n",
        "      <tr>\n",
        "        <a class='team-name'>Milwaukee Bucks</a>\n",
        "        <a class='team-value'>51.9</a>\n",
        "      </tr> \n",
        "      <tr>\n",
        "        <a class='team-name'>Philadelphia 76ers</a>\n",
        "        <a class='team-value'>48.5</a>\n",
        "      </tr> \n",
        "      <tr>\n",
        "        <a class='team-name'>Boston Celtics</a>\n",
        "        <a class='team-value'>47.8</a>\n",
        "      </tr> \n",
        "    </table>\n",
        "  </div>\n",
        "</div>\"\"\""
      ],
      "execution_count": null,
      "outputs": []
    },
    {
      "cell_type": "code",
      "metadata": {
        "id": "t9FQMf1JM4Zu",
        "colab_type": "code",
        "colab": {}
      },
      "source": [
        ""
      ],
      "execution_count": null,
      "outputs": []
    }
  ]
}