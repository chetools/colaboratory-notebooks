{
  "nbformat": 4,
  "nbformat_minor": 0,
  "metadata": {
    "colab": {
      "name": "WebScraping_Kids.ipynb",
      "provenance": [],
      "collapsed_sections": [],
      "authorship_tag": "ABX9TyPZ5jgiQob3Sb3ypYjVnWH9",
      "include_colab_link": true
    },
    "kernelspec": {
      "name": "python3",
      "display_name": "Python 3"
    }
  },
  "cells": [
    {
      "cell_type": "markdown",
      "metadata": {
        "id": "view-in-github",
        "colab_type": "text"
      },
      "source": [
        "<a href=\"https://colab.research.google.com/github/profteachkids/colaboratory-notebooks/blob/master/WebScraping_Kids.ipynb\" target=\"_parent\"><img src=\"https://colab.research.google.com/assets/colab-badge.svg\" alt=\"Open In Colab\"/></a>"
      ]
    },
    {
      "cell_type": "code",
      "metadata": {
        "id": "VTUStqy5Mhkp",
        "colab_type": "code",
        "colab": {}
      },
      "source": [
        "from lxml import html\n",
        "import requests"
      ],
      "execution_count": 1,
      "outputs": []
    },
    {
      "cell_type": "code",
      "metadata": {
        "id": "M9koROWmMbCT",
        "colab_type": "code",
        "colab": {}
      },
      "source": [
        "content = \"\"\"<html>\n",
        "  <head>Nothing - Duh!</head>\n",
        "  <body><div class='team-stats'>\n",
        "  <div class='points-per-game'>\n",
        "    <table class='category-table'> \n",
        "      <tr>\n",
        "        <a class='team-name'>Golden State Warriors</a>\n",
        "        <a class='team-value'>116.3</a>\n",
        "      </tr> \n",
        "      <tr>\n",
        "        <a class='team-name'>LA Clippers</a>\n",
        "        <a class='team-value'>114.7</a>\n",
        "      </tr> \n",
        "      <tr>\n",
        "        <a class='team-name'>Milwaukee Bucks</a>\n",
        "        <a class='team-value'>112.8</a>\n",
        "      </tr> \n",
        "    </table>\n",
        "  </div>\n",
        "  \n",
        "  <div class='rebounds-per-game'> \n",
        "    <table class='category-table'> \n",
        "      <tr>\n",
        "        <a class='team-name'>Milwaukee Bucks</a>\n",
        "        <a class='team-value'>51.9</a>\n",
        "      </tr> \n",
        "      <tr>\n",
        "        <a class='team-name'>Philadelphia 76ers</a>\n",
        "        <a class='team-value'>48.5</a>\n",
        "      </tr> \n",
        "      <tr>\n",
        "        <a class='team-name'>Boston Celtics</a>\n",
        "        <a class='team-value'>47.8</a>\n",
        "      </tr> \n",
        "    </table>\n",
        "  </div>\n",
        "</div></body></html>\"\"\""
      ],
      "execution_count": 12,
      "outputs": []
    },
    {
      "cell_type": "code",
      "metadata": {
        "id": "t9FQMf1JM4Zu",
        "colab_type": "code",
        "colab": {}
      },
      "source": [
        "tree=html.fromstring(content)"
      ],
      "execution_count": 13,
      "outputs": []
    },
    {
      "cell_type": "code",
      "metadata": {
        "id": "T_28HcN14Fai",
        "colab_type": "code",
        "colab": {}
      },
      "source": [
        "res=tree.xpath('/*')"
      ],
      "execution_count": 16,
      "outputs": []
    },
    {
      "cell_type": "code",
      "metadata": {
        "id": "zt9ZVlJ-4G9w",
        "colab_type": "code",
        "colab": {
          "base_uri": "https://localhost:8080/",
          "height": 54
        },
        "outputId": "ac54291e-2b6c-4a32-f445-c449b149660f"
      },
      "source": [
        "res"
      ],
      "execution_count": 17,
      "outputs": [
        {
          "output_type": "execute_result",
          "data": {
            "text/plain": [
              "[<Element html at 0x7fb55af312c8>]"
            ]
          },
          "metadata": {
            "tags": []
          },
          "execution_count": 17
        }
      ]
    },
    {
      "cell_type": "code",
      "metadata": {
        "id": "kPFDlUfG4gyJ",
        "colab_type": "code",
        "colab": {}
      },
      "source": [
        ""
      ],
      "execution_count": null,
      "outputs": []
    }
  ]
}