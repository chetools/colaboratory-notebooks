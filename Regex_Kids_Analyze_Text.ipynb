{
  "nbformat": 4,
  "nbformat_minor": 0,
  "metadata": {
    "colab": {
      "name": "Regex_Kids_Analyze_Text.ipynb",
      "provenance": [],
      "collapsed_sections": [],
      "authorship_tag": "ABX9TyNUMLsJKQsQSNGLi/cQDhy8",
      "include_colab_link": true
    },
    "kernelspec": {
      "name": "python3",
      "display_name": "Python 3"
    }
  },
  "cells": [
    {
      "cell_type": "markdown",
      "metadata": {
        "id": "view-in-github",
        "colab_type": "text"
      },
      "source": [
        "<a href=\"https://colab.research.google.com/github/profteachkids/colaboratory-notebooks/blob/master/Regex_Kids_Analyze_Text.ipynb\" target=\"_parent\"><img src=\"https://colab.research.google.com/assets/colab-badge.svg\" alt=\"Open In Colab\"/></a>"
      ]
    },
    {
      "cell_type": "code",
      "metadata": {
        "id": "PvnQrnwpEmyX",
        "colab_type": "code",
        "colab": {}
      },
      "source": [
        "import requests\n",
        "import re\n",
        "from itertools import islice\n",
        "import pandas as pd"
      ],
      "execution_count": 67,
      "outputs": []
    },
    {
      "cell_type": "code",
      "metadata": {
        "id": "IcJDH9stEpg-",
        "colab_type": "code",
        "colab": {}
      },
      "source": [
        "url = 'https://raw.githubusercontent.com/profteachkids/colaboratory-notebooks/master/name_adj_regex.txt'\n",
        "text = requests.get(url).text"
      ],
      "execution_count": 2,
      "outputs": []
    },
    {
      "cell_type": "code",
      "metadata": {
        "id": "NeFToVvQEv9c",
        "colab_type": "code",
        "colab": {}
      },
      "source": [
        "name_adj_pat = re.compile(r'^(\\w+)[-: ]+(.*)$', re.M)\n",
        "name_adjs=name_adj_pat.findall(text)"
      ],
      "execution_count": 19,
      "outputs": []
    },
    {
      "cell_type": "code",
      "metadata": {
        "id": "R0SBj5CeEw5E",
        "colab_type": "code",
        "colab": {}
      },
      "source": [
        "data={}\n",
        "adj_amount_pat = re.compile(r'(\\w+)[ +]+(\\d+)')\n",
        "for name_adj in name_adjs:\n",
        "  adj_amounts = adj_amount_pat.findall(name_adj[1])\n",
        "  if name_adj[0] in data:\n",
        "    for adj, amount in adj_amounts:\n",
        "      if adj in data[name_adj[0]]:\n",
        "        data[name_adj[0]][adj]+=int(amount)\n",
        "      else:\n",
        "        data[name_adj[0]][adj]=int(amount) \n",
        "  else:\n",
        "    data[name_adj[0]]={}\n",
        "    for adj, amount in adj_amounts:\n",
        "        data[name_adj[0]][adj]=int(amount) "
      ],
      "execution_count": 58,
      "outputs": []
    },
    {
      "cell_type": "code",
      "metadata": {
        "id": "f-jGToB1KrOA",
        "colab_type": "code",
        "colab": {}
      },
      "source": [
        "df = pd.DataFrame(data).reset_index()\n",
        "df=df.rename(columns={'index':'adjective'})"
      ],
      "execution_count": 60,
      "outputs": []
    },
    {
      "cell_type": "code",
      "metadata": {
        "id": "a8A3Vua7NIre",
        "colab_type": "code",
        "colab": {
          "base_uri": "https://localhost:8080/",
          "height": 221
        },
        "outputId": "4b5d8b89-f3e4-45f7-e12d-29ef05d386b3"
      },
      "source": [
        "df.head()"
      ],
      "execution_count": 61,
      "outputs": [
        {
          "output_type": "execute_result",
          "data": {
            "text/html": [
              "<div>\n",
              "<style scoped>\n",
              "    .dataframe tbody tr th:only-of-type {\n",
              "        vertical-align: middle;\n",
              "    }\n",
              "\n",
              "    .dataframe tbody tr th {\n",
              "        vertical-align: top;\n",
              "    }\n",
              "\n",
              "    .dataframe thead th {\n",
              "        text-align: right;\n",
              "    }\n",
              "</style>\n",
              "<table border=\"1\" class=\"dataframe\">\n",
              "  <thead>\n",
              "    <tr style=\"text-align: right;\">\n",
              "      <th></th>\n",
              "      <th>adjective</th>\n",
              "      <th>Tamara</th>\n",
              "      <th>Joy</th>\n",
              "      <th>Katelyn</th>\n",
              "      <th>Andrea</th>\n",
              "      <th>Jo</th>\n",
              "      <th>Cory</th>\n",
              "      <th>Monique</th>\n",
              "      <th>Christopher</th>\n",
              "      <th>Michelle</th>\n",
              "      <th>Robin</th>\n",
              "      <th>Melissa</th>\n",
              "      <th>Eric</th>\n",
              "      <th>Megan</th>\n",
              "      <th>Jose</th>\n",
              "      <th>Stephen</th>\n",
              "      <th>William</th>\n",
              "      <th>Adam</th>\n",
              "      <th>Barbara</th>\n",
              "      <th>Ashley</th>\n",
              "      <th>Emma</th>\n",
              "    </tr>\n",
              "  </thead>\n",
              "  <tbody>\n",
              "    <tr>\n",
              "      <th>0</th>\n",
              "      <td>exuberant</td>\n",
              "      <td>266</td>\n",
              "      <td>315</td>\n",
              "      <td>551</td>\n",
              "      <td>400</td>\n",
              "      <td>299</td>\n",
              "      <td>252</td>\n",
              "      <td>374</td>\n",
              "      <td>203</td>\n",
              "      <td>314</td>\n",
              "      <td>497</td>\n",
              "      <td>229</td>\n",
              "      <td>248</td>\n",
              "      <td>568</td>\n",
              "      <td>292</td>\n",
              "      <td>243</td>\n",
              "      <td>484</td>\n",
              "      <td>615</td>\n",
              "      <td>273</td>\n",
              "      <td>372</td>\n",
              "      <td>777</td>\n",
              "    </tr>\n",
              "    <tr>\n",
              "      <th>1</th>\n",
              "      <td>sympathetic</td>\n",
              "      <td>230</td>\n",
              "      <td>267</td>\n",
              "      <td>456</td>\n",
              "      <td>500</td>\n",
              "      <td>346</td>\n",
              "      <td>281</td>\n",
              "      <td>157</td>\n",
              "      <td>350</td>\n",
              "      <td>217</td>\n",
              "      <td>265</td>\n",
              "      <td>1142</td>\n",
              "      <td>414</td>\n",
              "      <td>363</td>\n",
              "      <td>464</td>\n",
              "      <td>425</td>\n",
              "      <td>363</td>\n",
              "      <td>512</td>\n",
              "      <td>230</td>\n",
              "      <td>691</td>\n",
              "      <td>264</td>\n",
              "    </tr>\n",
              "    <tr>\n",
              "      <th>2</th>\n",
              "      <td>patient</td>\n",
              "      <td>607</td>\n",
              "      <td>533</td>\n",
              "      <td>310</td>\n",
              "      <td>246</td>\n",
              "      <td>599</td>\n",
              "      <td>742</td>\n",
              "      <td>271</td>\n",
              "      <td>439</td>\n",
              "      <td>224</td>\n",
              "      <td>452</td>\n",
              "      <td>299</td>\n",
              "      <td>461</td>\n",
              "      <td>467</td>\n",
              "      <td>444</td>\n",
              "      <td>253</td>\n",
              "      <td>312</td>\n",
              "      <td>391</td>\n",
              "      <td>462</td>\n",
              "      <td>377</td>\n",
              "      <td>429</td>\n",
              "    </tr>\n",
              "    <tr>\n",
              "      <th>3</th>\n",
              "      <td>humorous</td>\n",
              "      <td>392</td>\n",
              "      <td>350</td>\n",
              "      <td>502</td>\n",
              "      <td>404</td>\n",
              "      <td>351</td>\n",
              "      <td>479</td>\n",
              "      <td>385</td>\n",
              "      <td>385</td>\n",
              "      <td>446</td>\n",
              "      <td>595</td>\n",
              "      <td>553</td>\n",
              "      <td>184</td>\n",
              "      <td>319</td>\n",
              "      <td>393</td>\n",
              "      <td>539</td>\n",
              "      <td>390</td>\n",
              "      <td>446</td>\n",
              "      <td>33</td>\n",
              "      <td>231</td>\n",
              "      <td>210</td>\n",
              "    </tr>\n",
              "    <tr>\n",
              "      <th>4</th>\n",
              "      <td>gentle</td>\n",
              "      <td>525</td>\n",
              "      <td>448</td>\n",
              "      <td>460</td>\n",
              "      <td>350</td>\n",
              "      <td>437</td>\n",
              "      <td>478</td>\n",
              "      <td>315</td>\n",
              "      <td>415</td>\n",
              "      <td>589</td>\n",
              "      <td>644</td>\n",
              "      <td>487</td>\n",
              "      <td>482</td>\n",
              "      <td>565</td>\n",
              "      <td>288</td>\n",
              "      <td>337</td>\n",
              "      <td>381</td>\n",
              "      <td>273</td>\n",
              "      <td>524</td>\n",
              "      <td>280</td>\n",
              "      <td>540</td>\n",
              "    </tr>\n",
              "  </tbody>\n",
              "</table>\n",
              "</div>"
            ],
            "text/plain": [
              "     adjective  Tamara  Joy  Katelyn  ...  Adam  Barbara  Ashley  Emma\n",
              "0    exuberant     266  315      551  ...   615      273     372   777\n",
              "1  sympathetic     230  267      456  ...   512      230     691   264\n",
              "2      patient     607  533      310  ...   391      462     377   429\n",
              "3     humorous     392  350      502  ...   446       33     231   210\n",
              "4       gentle     525  448      460  ...   273      524     280   540\n",
              "\n",
              "[5 rows x 21 columns]"
            ]
          },
          "metadata": {
            "tags": []
          },
          "execution_count": 61
        }
      ]
    },
    {
      "cell_type": "code",
      "metadata": {
        "id": "d9Im5Aa-O6AZ",
        "colab_type": "code",
        "colab": {}
      },
      "source": [
        ""
      ],
      "execution_count": null,
      "outputs": []
    }
  ]
}