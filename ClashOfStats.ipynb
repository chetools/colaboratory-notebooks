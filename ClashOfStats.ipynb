{
  "nbformat": 4,
  "nbformat_minor": 0,
  "metadata": {
    "colab": {
      "name": "ClashOfStats.ipynb",
      "provenance": [],
      "authorship_tag": "ABX9TyMHDIohIPlCe/nip3CYG67T",
      "include_colab_link": true
    },
    "kernelspec": {
      "name": "python3",
      "display_name": "Python 3"
    },
    "language_info": {
      "name": "python"
    }
  },
  "cells": [
    {
      "cell_type": "markdown",
      "metadata": {
        "id": "view-in-github",
        "colab_type": "text"
      },
      "source": [
        "<a href=\"https://colab.research.google.com/github/profteachkids/colaboratory-notebooks/blob/master/ClashOfStats.ipynb\" target=\"_parent\"><img src=\"https://colab.research.google.com/assets/colab-badge.svg\" alt=\"Open In Colab\"/></a>"
      ]
    },
    {
      "cell_type": "code",
      "execution_count": 1,
      "metadata": {
        "id": "ovCiMslblJF0"
      },
      "outputs": [],
      "source": [
        "import requests\n",
        "from lxml import html"
      ]
    },
    {
      "cell_type": "code",
      "source": [
        "url=r'https://www.clashofstats.com/clans/persian.gulf-2CQRU2VC/members/'"
      ],
      "metadata": {
        "id": "Lon5wssdlLrF"
      },
      "execution_count": 2,
      "outputs": []
    },
    {
      "cell_type": "code",
      "source": [
        "content=requests.get(url).content"
      ],
      "metadata": {
        "id": "nmV2Mtw8lOm0"
      },
      "execution_count": 3,
      "outputs": []
    },
    {
      "cell_type": "code",
      "source": [
        "tree=html.fromstring(content)"
      ],
      "metadata": {
        "id": "a_mE_oY7lWUr"
      },
      "execution_count": 4,
      "outputs": []
    },
    {
      "cell_type": "code",
      "source": [
        "member_names=tree.xpath('//div[@class=\"mb-3 playerHead_MtVWU\"]//div[@class=\"r-val__text\"]/div[1]/text()')\n",
        "member_roles=tree.xpath('//div[@class=\"mb-3 playerHead_MtVWU\"]//div[@class=\"r-val__text\"]/div[2]/text()')"
      ],
      "metadata": {
        "id": "puAbMOZelklL"
      },
      "execution_count": 5,
      "outputs": []
    },
    {
      "cell_type": "code",
      "source": [
        "member_infos_raw=tree.xpath('//div[@class=\"mb-3 playerHead_MtVWU\"]/following-sibling::div//span/text()')\n",
        "member_info_raw_str=', '.join(member_infos_raw)"
      ],
      "metadata": {
        "id": "gbfex_Q4mAoi"
      },
      "execution_count": 15,
      "outputs": []
    },
    {
      "cell_type": "code",
      "source": [
        "member_info_list=['TH' + member_info for member_info in member_info_raw_str.split('TH')[1:]]"
      ],
      "metadata": {
        "id": "6r9PMiDzP-YY"
      },
      "execution_count": 18,
      "outputs": []
    },
    {
      "cell_type": "code",
      "source": [
        "for name, role, info in zip(member_names,member_roles,member_info_list):\n",
        "    print(f'{name:30s} {role:25s} {info}')"
      ],
      "metadata": {
        "colab": {
          "base_uri": "https://localhost:8080/"
        },
        "id": "pN_EkdSrmq_h",
        "outputId": "efeabef3-6a84-48a9-9445-bdc301e20b9f"
      },
      "execution_count": 19,
      "outputs": [
        {
          "output_type": "stream",
          "name": "stdout",
          "text": [
            "west knight                    Leader                    TH 14, BH 9, 243, 5,653, 47, 0, 2,132, 12,411, 4,886, 3,981, 91, 2,221, \n",
            "OMID.F                         Co-leader                 TH 14, BH 9, 240, 5,546, 46, 0, 1,874, 13,259, 4,870, 1,292, 2, 2,072, \n",
            "west King Ali                  Elder                     TH 14, BH 9, 269, 5,510, 47, 0, 3,023, 12,695, 4,768, 1,531, 30, 2,628, \n",
            "Danger                         Elder                     TH 14, BH 9, 247, 5,499, 47, 0, 2,038, 6,587, 4,971, 2,061, 0, 1,506, \n",
            "امین                           Elder                     TH 14, BH 9, 249, 5,499, 47, 2, 3,602, 8,751, 3,674, 1,013, 1, 1,932, \n",
            "Aghaei                         Elder                     TH 14, BH 9, 255, 5,496, 47, 0, 3,039, 12,007, 4,583, 3,312, 1, 2,070, \n",
            "DrDisconnect                   Elder                     TH 14, BH 9, 255, 5,470, 47, 0, 3,278, 17,664, 5,000, 4,448, 67, 48, \n",
            "west pari↪️a                   Elder                     TH 14, BH 9, 259, 5,462, 47, 0, 3,553, 6,571, 4,850, 1,776, 0, 1,404, \n",
            "sanaz                          Co-leader                 TH 14, BH 9, 261, 5,444, 51, 0, 2,824, 6,872, 5,000, 2,875, 107, 751, \n",
            "LEGEND・MMD                     Elder                     TH 14, BH 9, 247, 5,432, 47, 0, 2,566, 6,646, 4,882, 3,970, 0, 0, \n",
            "mohammad jr                    Elder                     TH 14, BH 9, 252, 5,427, 45, 1, 3,416, 4,454, 4,206, 1,858, 0, 282, \n",
            "NEMATTULLAH✨AFG                Elder                     TH 14, BH 9, 242, 5,425, 47, 0, 3,159, 16,488, 4,745, 1,940, 0, 204, \n",
            "West NATO✌️                    Elder                     TH 14, BH 9, 248, 5,419, 47, 0, 2,915, 21,884, 4,997, 2,924, 5, 2,439, \n",
            "➡️ＮＥＧＡＲ                        Elder                     TH 14, BH 9, 238, 5,413, 47, 0, 2,581, 9,641, 4,438, 1,936, 0, 2,191, \n",
            "Masoud                         Co-leader                 TH 14, BH 9, 297, 5,413, 47, 1, 2,490, 14,021, 5,000, 4,993, 12,313, 3,583, \n",
            "σのɨŋŋ                          Elder                     TH 14, BH 9, 252, 5,407, 47, 1, 3,115, 10,716, 4,242, 3,024, 0, 204, \n",
            "⚡A.S⚡alireza⚡                  Co-leader                 TH 14, BH 9, 267, 5,381, 46, 1, 3,482, 10,710, 4,933, 3,021, 20,731, 3,897, \n",
            "جلال                           Elder                     TH 14, BH 9, 258, 5,379, 47, 1, 2,462, 18,095, 5,000, 3,520, 90, 312, \n",
            "❤のεŋɨ乙❤                        Elder                     TH 14, BH 9, 269, 5,373, 47, 0, 3,900, 11,884, 5,000, 7,644, 57, 390, \n",
            "CoOlBoY                        Elder                     TH 14, BH 9, 244, 5,354, 47, 0, 1,922, 5,256, 5,118, 6,759, 210, 468, \n",
            "messi                          Elder                     TH 14, BH 9, 240, 5,353, 45, 0, 2,520, 16,517, 4,311, 2,215, 44, 2,176, \n",
            "فارق                           Elder                     TH 14, BH 9, 240, 5,351, 47, 0, 2,360, 3,421, 4,920, 4,208, 130, 172, \n",
            "'YOnG KiNG                     Elder                     TH 14, BH 9, 244, 5,348, 45, 0, 1,664, 3,817, 3,962, 1,565, 0, 177, \n",
            "LV.87.TAHA                     Elder                     TH 14, BH 9, 250, 5,339, 47, 0, 1,809, 2,804, 4,674, 2,471, 1,493, 468, \n",
            "!!NIGHT WOLF!!                 Elder                     TH 14, BH 9, 258, 5,335, 47, 0, 2,463, 13,340, 4,414, 6,032, 1,120, 486, \n",
            "pari↪️e                        Elder                     TH 14, BH 9, 248, 5,334, 39, 0, 2,520, 10,997, 5,031, 4,746, 123, 346, \n",
            "Toni Jr                        Elder                     TH 14, BH 9, 235, 5,328, 49, 0, 2,083, 2,380, 3,813, 1,876, 0, 390, \n",
            "pezhman                        Elder                     TH 14, BH 9, 240, 5,326, 45, 0, 1,639, 6,822, 5,028, 2,813, 0, 222, \n",
            "pari↪e                         Elder                     TH 14, BH 9, 254, 5,324, 47, 0, 1,931, 6,616, 5,343, 12,392, 208, 390, \n",
            "⚽️⚽️vahid.h⚽️⚽️                Elder                     TH 14, BH 9, 292, 5,323, 47, 1, 2,240, 13,723, 3,750, 1,058, 77, 78, \n",
            "⚡ARCHY⚡♥️♥️                    Elder                     TH 14, BH 9, 238, 5,310, 47, 1, 3,293, 14,870, 2,978, 1,131, 0, 0, \n",
            "Lv.64. NASER                   Elder                     TH 14, BH 9, 271, 5,309, 47, 1, 2,269, 2,752, 4,869, 5,464, 1, 0, \n",
            "DR.NASER™️1                    Elder                     TH 14, BH 9, 244, 5,308, 47, 0, 3,136, 19,303, 4,828, 4,029, 0, 144, \n",
            "Ehsan                          Elder                     TH 14, BH 9, 254, 5,304, 47, 0, 2,835, 17,925, 3,258, 2,915, 0, 894, \n",
            "Toni                           Elder                     TH 14, BH 9, 240, 5,297, 47, 0, 2,517, 11,806, 3,898, 1,059, 3, 48, \n",
            "⚡A.S⚡alireza⚡                  Elder                     TH 14, BH 9, 240, 5,293, 44, 0, 1,854, 10,090, 4,793, 2,438, 0, 204, \n",
            "LEGENDARY LADY                 Elder                     TH 14, BH 9, 228, 5,281, 47, 0, 1,898, 3,525, 4,562, 1,329, 0, 156, \n",
            "Black Knight                   Elder                     TH 14, BH 9, 242, 5,279, 46, 1, 3,357, 21,524, 4,997, 2,686, 0, 312, \n",
            "AliReza Khani                  Elder                     TH 14, BH 9, 256, 5,277, 39, 0, 3,487, 9,479, 4,868, 2,799, 29, 2,315, \n",
            "✳✳BARAN✳✳                      Co-leader                 TH 14, BH 9, 325, 5,270, 46, 0, 2,304, 9,635, 4,871, 2,426, 51,152, 4,831, \n",
            "mehdi                          Co-leader                 TH 14, BH 9, 286, 5,269, 47, 0, 2,254, 8,810, 3,892, 2,518, 617, 3,648, \n",
            "⚡⚡pedram⚡⚡                     Elder                     TH 14, BH 9, 276, 5,263, 45, 0, 2,797, 13,193, 5,002, 4,227, 2,393, 2,824, \n",
            "Pooria.A                       Elder                     TH 14, BH 9, 243, 5,261, 43, 1, 2,375, 9,865, 5,000, 2,697, 0, 192, \n",
            "Toni Se                        Elder                     TH 14, BH 9, 246, 5,258, 44, 0, 4,221, 10,540, 5,000, 3,447, 0, 78, \n",
            "ADNAN                          Elder                     TH 14, BH 9, 258, 5,237, 20, 0, 1,980, 3,941, 4,836, 1,745, 30, 300, \n",
            "***MoHaMmAd***                 Elder                     TH 14, BH 9, 266, 5,230, 39, 0, 3,341, 15,790, 5,000, 6,560, 0, 2,163, \n",
            "lol                            Elder                     TH 14, BH 9, 222, 5,227, 40, 0, 2,514, 5,903, 3,585, 1,679, 0, 421, \n",
            "☞Д§Њќдɳ™☜                      Elder                     TH 14, BH 9, 236, 5,170, 38, 1, 1,873, 3,996, 4,868, 1,873, 0, 48, \n",
            "CΛpłtΛɳ SΛΞłÐ                  Elder                     TH 14, BH 9, 268, 5,167, 39, 0, 2,674, 21,954, 2,998, 970, 0, 2,215, \n"
          ]
        }
      ]
    },
    {
      "cell_type": "code",
      "source": [
        ""
      ],
      "metadata": {
        "id": "bShfCAmcntVX"
      },
      "execution_count": 7,
      "outputs": []
    }
  ]
}