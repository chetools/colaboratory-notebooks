{
  "nbformat": 4,
  "nbformat_minor": 0,
  "metadata": {
    "colab": {
      "name": "ClashOfStats.ipynb",
      "provenance": [],
      "authorship_tag": "ABX9TyOtfCfC9mkRzmZ7l4bqJ9q5",
      "include_colab_link": true
    },
    "kernelspec": {
      "name": "python3",
      "display_name": "Python 3"
    },
    "language_info": {
      "name": "python"
    }
  },
  "cells": [
    {
      "cell_type": "markdown",
      "metadata": {
        "id": "view-in-github",
        "colab_type": "text"
      },
      "source": [
        "<a href=\"https://colab.research.google.com/github/profteachkids/colaboratory-notebooks/blob/master/ClashOfStats.ipynb\" target=\"_parent\"><img src=\"https://colab.research.google.com/assets/colab-badge.svg\" alt=\"Open In Colab\"/></a>"
      ]
    },
    {
      "cell_type": "code",
      "execution_count": 6,
      "metadata": {
        "id": "ovCiMslblJF0"
      },
      "outputs": [],
      "source": [
        "import requests\n",
        "from lxml import html"
      ]
    },
    {
      "cell_type": "code",
      "source": [
        "url=r'https://www.clashofstats.com/clans/persian.gulf-2CQRU2VC/members/'"
      ],
      "metadata": {
        "id": "Lon5wssdlLrF"
      },
      "execution_count": 4,
      "outputs": []
    },
    {
      "cell_type": "code",
      "source": [
        "content=requests.get(url).content"
      ],
      "metadata": {
        "id": "nmV2Mtw8lOm0"
      },
      "execution_count": 7,
      "outputs": []
    },
    {
      "cell_type": "code",
      "source": [
        "tree=html.fromstring(content)"
      ],
      "metadata": {
        "id": "a_mE_oY7lWUr"
      },
      "execution_count": 8,
      "outputs": []
    },
    {
      "cell_type": "code",
      "source": [
        "member_names=tree.xpath('//div[@class=\"mb-3 playerHead_MtVWU\"]//div[@class=\"r-val__text\"]/div[1]/text()')\n",
        "member_roles=tree.xpath('//div[@class=\"mb-3 playerHead_MtVWU\"]//div[@class=\"r-val__text\"]/div[2]/text()')"
      ],
      "metadata": {
        "id": "puAbMOZelklL"
      },
      "execution_count": 17,
      "outputs": []
    },
    {
      "cell_type": "code",
      "source": [
        "member_infos_raw=tree.xpath('//div[@class=\"mb-3 playerHead_MtVWU\"]/following-sibling::div//span/text()')\n",
        "member_infos=[member_infos_raw[i*12:(i+1)*12] for i in range(len(member_infos_raw)//12)]"
      ],
      "metadata": {
        "id": "gbfex_Q4mAoi"
      },
      "execution_count": 45,
      "outputs": []
    },
    {
      "cell_type": "code",
      "source": [
        "for name, role, info in zip(member_names,member_roles,member_infos):\n",
        "    print(f'{name:30s} {role:25s} {info}')"
      ],
      "metadata": {
        "colab": {
          "base_uri": "https://localhost:8080/"
        },
        "id": "pN_EkdSrmq_h",
        "outputId": "9f6ad0ea-076b-4d63-9e5d-10b5f7cc182c"
      },
      "execution_count": 48,
      "outputs": [
        {
          "output_type": "stream",
          "name": "stdout",
          "text": [
            "west knight                    Leader                    ['TH 14', 'BH 9', '243', '5,692', '47', '0', '2,132', '12,411', '4,886', '3,981', '91', '2,221']\n",
            "OMID.F                         Co-leader                 ['TH 14', 'BH 9', '240', '5,586', '46', '0', '1,874', '13,259', '4,870', '1,292', '2', '2,072']\n",
            "west King Ali                  Elder                     ['TH 14', 'BH 9', '269', '5,550', '47', '0', '3,023', '12,695', '4,768', '1,531', '30', '2,553']\n",
            "Danger                         Elder                     ['TH 14', 'BH 9', '247', '5,499', '47', '0', '2,038', '6,587', '4,971', '2,061', '0', '1,428']\n",
            "امین                           Elder                     ['TH 14', 'BH 9', '249', '5,499', '47', '2', '3,602', '8,751', '3,674', '1,013', '1', '1,932']\n",
            "Aghaei                         Elder                     ['TH 14', 'BH 9', '255', '5,496', '47', '0', '3,039', '12,007', '4,583', '3,312', '1', '2,070']\n",
            "➡️ＮＥＧＡＲ                        Elder                     ['TH 14', 'BH 9', '255', '5,493', '47', '0', '3,278', '17,664', '5,000', '4,448', '0', '48']\n",
            "west pari↪️a                   Co-leader                 ['TH 14', 'BH 9', '297', '5,488', '47', '1', '2,490', '14,021', '5,000', '4,993', '12,145', '3,583']\n",
            "mohammad jr                    Co-leader                 ['TH 14', 'BH 9', '261', '5,475', '51', '0', '2,824', '6,872', '5,000', '2,875', '35', '751']\n",
            "DrDisconnect                   Elder                     ['TH 14', 'BH 9', '242', '5,470', '47', '0', '3,159', '16,488', '4,745', '1,940', '0', '126']\n",
            "NEMATTULLAH✨AFG                Elder                     ['TH 14', 'BH 9', '259', '5,462', '47', '0', '3,553', '6,571', '4,850', '1,776', '0', '1,404']\n",
            "sanaz                          Elder                     ['TH 14', 'BH 9', '248', '5,459', '47', '0', '2,912', '21,884', '4,997', '2,924', '5', '2,313']\n",
            "LEGEND・MMD                     Elder                     ['TH 14', 'BH 9', '247', '5,432', '47', '0', '2,566', '6,646', '4,882', '3,970', '0', '0']\n",
            "فارق                           Elder                     ['TH 14', 'BH 9', '252', '5,419', '43', '1', '3,416', '4,454', '4,206', '1,858', '0', '48']\n",
            "جلال                           Elder                     ['TH 14', 'BH 9', '244', '5,416', '45', '0', '1,664', '3,817', '3,962', '1,565', '0', '177']\n",
            "messi                          Elder                     ['TH 14', 'BH 9', '269', '5,413', '47', '0', '3,900', '11,884', '5,000', '7,644', '57', '390']\n",
            "Masoud                         Elder                     ['TH 14', 'BH 9', '240', '5,408', '47', '0', '2,360', '3,421', '4,920', '4,208', '30', '172']\n",
            "『MR』๛ MOJTABA✨                 Elder                     ['TH 14', 'BH 9', '252', '5,407', '47', '1', '3,115', '10,716', '4,242', '3,024', '0', '204']\n",
            "West NATO✌️                    Elder                     ['TH 14', 'BH 9', '232', '5,397', '58', '0', '2,004', '3,832', '4,685', '4,170', '0', '126']\n",
            "'YOnG KiNG                     Elder                     ['TH 14', 'BH 9', '238', '5,380', '44', '0', '2,581', '9,641', '4,438', '1,936', '0', '1,957']\n",
            "!!NIGHT WOLF!!                 Elder                     ['TH 14', 'BH 9', '250', '5,379', '47', '0', '1,809', '2,804', '4,674', '2,471', '90', '468']\n",
            "Ehsan                          Elder                     ['TH 14', 'BH 9', '248', '5,360', '39', '0', '2,520', '10,997', '5,031', '4,743', '123', '298']\n",
            "LEGENDARY LADY                 Elder                     ['TH 14', 'BH 9', '240', '5,351', '47', '0', '2,514', '11,806', '3,898', '1,059', '0', '0']\n",
            "pari↪️e                        Elder                     ['TH 14', 'BH 9', '242', '5,345', '46', '1', '3,357', '21,524', '4,997', '2,686', '0', '312']\n",
            "DR.NASER™️1                    Elder                     ['TH 14', 'BH 9', '235', '5,341', '49', '0', '2,083', '2,380', '3,813', '1,876', '0', '390']\n",
            "σのɨŋŋ                          Elder                     ['TH 14', 'BH 9', '254', '5,335', '47', '0', '2,835', '17,925', '3,258', '2,915', '0', '846']\n",
            "pezhman                        Co-leader                 ['TH 14', 'BH 9', '267', '5,326', '44', '1', '3,482', '10,710', '4,933', '3,021', '20,424', '3,585']\n",
            "pari↪e                         Elder                     ['TH 14', 'BH 9', '254', '5,324', '47', '0', '1,931', '6,616', '5,315', '12,360', '117', '390']\n",
            "LV.87.TAHA                     Elder                     ['TH 14', 'BH 9', '292', '5,323', '47', '1', '2,240', '13,723', '3,750', '1,058', '0', '78']\n",
            "Lv.64. NASER                   Elder                     ['TH 14', 'BH 9', '258', '5,317', '44', '0', '2,463', '13,340', '4,414', '6,032', '1,120', '330']\n",
            "⚡A.S⚡alireza⚡                  Elder                     ['TH 14', 'BH 9', '244', '5,310', '45', '0', '3,136', '19,303', '4,828', '4,029', '0', '96']\n",
            "Black Knight                   Elder                     ['TH 14', 'BH 9', '258', '5,305', '44', '1', '2,462', '18,095', '5,000', '3,520', '60', '156']\n",
            "⚡⚡pedram⚡⚡                     Elder                     ['TH 14', 'BH 9', '256', '5,304', '39', '0', '3,487', '9,479', '4,868', '2,799', '29', '2,315']\n",
            "Toni Jr                        Elder                     ['TH 14', 'BH 9', '243', '5,301', '42', '1', '2,375', '9,865', '5,000', '2,697', '0', '96']\n",
            "ADNAN                          Elder                     ['TH 14', 'BH 9', '240', '5,299', '44', '0', '1,639', '6,822', '5,028', '2,813', '0', '96']\n",
            "⚡A.S⚡alireza⚡                  Elder                     ['TH 14', 'BH 9', '266', '5,291', '39', '0', '3,341', '15,790', '5,000', '6,560', '0', '2,163']\n",
            "mehdi                          Elder                     ['TH 14', 'BH 9', '228', '5,290', '44', '0', '1,898', '3,525', '4,562', '1,329', '0', '78']\n",
            "CoOlBoY                        Elder                     ['TH 14', 'BH 9', '276', '5,259', '44', '0', '2,797', '13,193', '5,002', '4,227', '2,314', '2,746']\n",
            "Toni                           Elder                     ['TH 14', 'BH 9', '240', '5,253', '40', '0', '2,517', '16,517', '4,311', '2,215', '44', '1,888']\n",
            "✳✳BARAN✳✳                      Elder                     ['TH 14', 'BH 9', '240', '5,239', '42', '0', '1,854', '10,090', '4,793', '2,438', '0', '156']\n",
            "***MoHaMmAd***                 Co-leader                 ['TH 14', 'BH 9', '286', '5,239', '46', '0', '2,254', '8,810', '3,892', '2,518', '584', '3,570']\n",
            "CΛpłtΛɳ SΛΞłÐ                  Elder                     ['TH 14', 'BH 9', '222', '5,236', '40', '0', '2,514', '5,903', '3,585', '1,679', '0', '421']\n",
            "❤のεŋɨ乙❤                        Co-leader                 ['TH 14', 'BH 9', '246', '5,214', '40', '0', '2,519', '12,938', '4,913', '2,029', '177', '156']\n",
            "lol                            Elder                     ['TH 14', 'BH 9', '244', '5,214', '41', '0', '1,919', '5,256', '5,118', '6,759', '0', '156']\n",
            "☞Д§Њќдɳ™☜                      Elder                     ['TH 14', 'BH 9', '236', '5,170', '38', '1', '1,873', '3,996', '4,868', '1,873', '0', '48']\n",
            "Toni Se                        Elder                     ['TH 14', 'BH 9', '268', '5,167', '39', '0', '2,674', '21,954', '2,998', '970', '0', '2,215']\n",
            "AliReza Khani                  Elder                     ['TH 14', 'BH 9', '258', '5,162', '17', '0', '1,980', '3,941', '4,836', '1,745', '0', '78']\n"
          ]
        }
      ]
    },
    {
      "cell_type": "code",
      "source": [
        ""
      ],
      "metadata": {
        "id": "bShfCAmcntVX"
      },
      "execution_count": null,
      "outputs": []
    }
  ]
}