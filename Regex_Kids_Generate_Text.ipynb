{
  "nbformat": 4,
  "nbformat_minor": 0,
  "metadata": {
    "colab": {
      "name": "Regex_Kids_Generate_Text.ipynb",
      "provenance": [],
      "authorship_tag": "ABX9TyN9J/n6hxoEJ/d7aN7T9CRE",
      "include_colab_link": true
    },
    "kernelspec": {
      "name": "python3",
      "display_name": "Python 3"
    }
  },
  "cells": [
    {
      "cell_type": "markdown",
      "metadata": {
        "id": "view-in-github",
        "colab_type": "text"
      },
      "source": [
        "<a href=\"https://colab.research.google.com/github/profteachkids/colaboratory-notebooks/blob/master/Regex_Kids_Generate_Text.ipynb\" target=\"_parent\"><img src=\"https://colab.research.google.com/assets/colab-badge.svg\" alt=\"Open In Colab\"/></a>"
      ]
    },
    {
      "cell_type": "code",
      "metadata": {
        "id": "tC-cThk9_jp-",
        "colab_type": "code",
        "colab": {
          "base_uri": "https://localhost:8080/",
          "height": 170
        },
        "outputId": "ab131106-1090-4cc1-8f53-15d1c54f84c3"
      },
      "source": [
        "pip install faker"
      ],
      "execution_count": 9,
      "outputs": [
        {
          "output_type": "stream",
          "text": [
            "Collecting faker\n",
            "\u001b[?25l  Downloading https://files.pythonhosted.org/packages/f1/61/0d6ff41ca781a778f843bd0ae690bf44cd3911d542e4fa77c0acc624cdac/Faker-4.1.2-py3-none-any.whl (1.0MB)\n",
            "\u001b[K     |████████████████████████████████| 1.0MB 2.9MB/s \n",
            "\u001b[?25hRequirement already satisfied: text-unidecode==1.3 in /usr/local/lib/python3.6/dist-packages (from faker) (1.3)\n",
            "Requirement already satisfied: python-dateutil>=2.4 in /usr/local/lib/python3.6/dist-packages (from faker) (2.8.1)\n",
            "Requirement already satisfied: six>=1.5 in /usr/local/lib/python3.6/dist-packages (from python-dateutil>=2.4->faker) (1.15.0)\n",
            "Installing collected packages: faker\n",
            "Successfully installed faker-4.1.2\n"
          ],
          "name": "stdout"
        }
      ]
    },
    {
      "cell_type": "code",
      "metadata": {
        "id": "s5OZSbfx-u8q",
        "colab_type": "code",
        "colab": {}
      },
      "source": [
        "from lxml import html\n",
        "import requests\n",
        "import numpy as np\n",
        "from faker import Faker\n",
        "from collections import deque"
      ],
      "execution_count": 33,
      "outputs": []
    },
    {
      "cell_type": "code",
      "metadata": {
        "id": "ylbFAkpg-6qJ",
        "colab_type": "code",
        "colab": {}
      },
      "source": [
        "url='https://justenglish.me/2014/03/17/positive-personality-adjectives-list/'\n",
        "content = requests.get(url).content\n",
        "tree= html.fromstring(content)"
      ],
      "execution_count": 4,
      "outputs": []
    },
    {
      "cell_type": "code",
      "metadata": {
        "id": "Pho_t6u9_AIW",
        "colab_type": "code",
        "colab": {}
      },
      "source": [
        "adj_list =tree.xpath('//*[@id=\"post-1716\"]/div[2]/div/p/a/text()')"
      ],
      "execution_count": 7,
      "outputs": []
    },
    {
      "cell_type": "code",
      "metadata": {
        "id": "wXI78CzdAz88",
        "colab_type": "code",
        "colab": {}
      },
      "source": [
        "fake=Faker()\n",
        "name_list = [fake.first_name() for i in range(20)]"
      ],
      "execution_count": 30,
      "outputs": []
    },
    {
      "cell_type": "code",
      "metadata": {
        "id": "NuA1y9v6_XWH",
        "colab_type": "code",
        "colab": {}
      },
      "source": [
        "text = deque()\n",
        "for i in range(100):\n",
        "  adjs=np.random.choice(adj_list, size= np.random.randint(1,8))\n",
        "  amounts = np.random.randint(1,80,size=adjs.shape[0])\n",
        "  name = np.random.choice(name_list,1)[0]\n",
        "  delimit1 = np.random.choice([':', ' : ', ' - '],1)[0]\n",
        "  delimit2 = np.random.choice(['+',''],size=adjs.shape[0])\n",
        "  text.append( name + delimit1 + np.random.choice([' ', ', ', '  ', '; '],1)[0].join([f'{adj} {delimit}{amount}' for adj,delimit,amount in zip(adjs,delimit2,amounts)]))"
      ],
      "execution_count": 42,
      "outputs": []
    },
    {
      "cell_type": "code",
      "metadata": {
        "id": "7o6UKk5o_sif",
        "colab_type": "code",
        "colab": {}
      },
      "source": [
        "text2 = '\\n'.join(text)"
      ],
      "execution_count": 47,
      "outputs": []
    },
    {
      "cell_type": "code",
      "metadata": {
        "id": "vguiuzILALl4",
        "colab_type": "code",
        "colab": {}
      },
      "source": [
        "print(text2)"
      ],
      "execution_count": null,
      "outputs": []
    },
    {
      "cell_type": "code",
      "metadata": {
        "id": "kM-lZxpZANtI",
        "colab_type": "code",
        "colab": {}
      },
      "source": [
        ""
      ],
      "execution_count": null,
      "outputs": []
    }
  ]
}